{
 "cells": [
  {
   "cell_type": "markdown",
   "id": "9a7c4c8c-72ca-4190-9b89-6223143c65d6",
   "metadata": {},
   "source": [
    "1. Write a program to accept percentage from the user and display the grade according to the following criteria "
   ]
  },
  {
   "cell_type": "code",
   "execution_count": 1,
   "id": "a1da7fa1-4c2a-4174-9e66-622efc9a2679",
   "metadata": {},
   "outputs": [
    {
     "name": "stdin",
     "output_type": "stream",
     "text": [
      "Enter your marks percentage :  5465\n"
     ]
    },
    {
     "name": "stdout",
     "output_type": "stream",
     "text": [
      "A\n"
     ]
    }
   ],
   "source": [
    "marks = int(input(\"Enter your marks percentage : \"))\n",
    "if marks >90:\n",
    "    print('A')\n",
    "elif marks>80 and marks <= 90:\n",
    "    print('B')\n",
    "elif marks >=60 and marks <= 80:\n",
    "    print('C')\n",
    "else :\n",
    "    print('D')"
   ]
  },
  {
   "cell_type": "raw",
   "id": "57faf362-f1c5-4a8f-964f-6d78ac1fb902",
   "metadata": {},
   "source": []
  },
  {
   "cell_type": "markdown",
   "id": "0b231bc7-4f5c-4f6b-b88b-0cb000e74824",
   "metadata": {},
   "source": [
    "2. Write a program to accept the cost price of a bike and display the road tax to be paid according to the following criteria:"
   ]
  },
  {
   "cell_type": "code",
   "execution_count": null,
   "id": "f16fac28-c768-4387-a146-c22b875f8c2c",
   "metadata": {},
   "outputs": [],
   "source": [
    "cost = int(input(\"Enter the Cost of the Bike : \"))\n",
    "\n",
    "if cost > 100000: \n",
    "    tax = cost*15/100\n",
    "elif cost > 50000 and cost <= 100000:\n",
    "    tax = cost*10/100\n",
    "else: \n",
    "    tax = cost*5/100\n",
    "\n",
    "print(\"Road tax to be paid is \",tax)"
   ]
  },
  {
   "cell_type": "raw",
   "id": "07f9d5bf-537e-4fe3-ad0a-9479135c8658",
   "metadata": {},
   "source": []
  },
  {
   "cell_type": "raw",
   "id": "bb5ac50f-972a-4208-a7ce-af4f719e097a",
   "metadata": {},
   "source": [
    "3. Accept any city from the user and display monuments of that city "
   ]
  },
  {
   "cell_type": "code",
   "execution_count": null,
   "id": "fb371888-7a58-454a-a187-e0bf90c371c9",
   "metadata": {},
   "outputs": [],
   "source": [
    "city = input(\"Enter a city name 'Dehli', 'Agra', 'Jaipur' : \")\n",
    "\n",
    "city = city.lower()\n",
    "\n",
    "if city == \"dehli\":\n",
    "    print(\"Red Fort\")\n",
    "elif city == \"agra\":\n",
    "    print(\"Taj Mahal\")\n",
    "elif city == \"jaipur\":\n",
    "    print(\"Jai Mahal\")"
   ]
  },
  {
   "cell_type": "raw",
   "id": "4aa81c24-bb42-4f7c-90d9-4be2c2943bbb",
   "metadata": {},
   "source": [
    "\n"
   ]
  },
  {
   "cell_type": "markdown",
   "id": "d912856d-442f-4cd3-8e9e-5a2ac5f279c4",
   "metadata": {},
   "source": [
    "4. Check how many times a given number can be divided by 3 before it is less then or equal to 10."
   ]
  },
  {
   "cell_type": "code",
   "execution_count": null,
   "id": "ebdd8575-8694-4cfc-ab54-7fdb5bdfe584",
   "metadata": {},
   "outputs": [],
   "source": [
    "n = int(input(\"Enter a no : \"))\n",
    "c=0 \n",
    "while n>=10:\n",
    "    c = c+1 \n",
    "    n=n//3\n",
    "print(c)"
   ]
  },
  {
   "cell_type": "markdown",
   "id": "a9209741-0ccf-4af0-b5b2-aa699a92f548",
   "metadata": {},
   "source": [
    "5.  Why and When to Use while Loop in Python give a detailed description with example "
   ]
  },
  {
   "cell_type": "raw",
   "id": "810dde79-61e9-4b72-8aae-f37a22a5940a",
   "metadata": {},
   "source": [
    "Answere --> Python while loop is used to run a block code until a certain condition is met. A while loop evaluates the condition. If the condition evaluates to True , the code inside the while loop is executed else its comes out of the loop's body. \n",
    "        While loop is used when the number of iterations is already Unknown. In the while loop, it can be repeated at every iteration. "
   ]
  },
  {
   "cell_type": "code",
   "execution_count": null,
   "id": "7cf92bd2-6805-48d8-90c9-8f71c32c20d8",
   "metadata": {},
   "outputs": [],
   "source": [
    "#Example -> program to display numbers from 1 to 5\n",
    "\n",
    "# initialize the variable\n",
    "i = 1\n",
    "n = 5\n",
    "\n",
    "# while loop from i = 1 to 5\n",
    "while i <= n:\n",
    "    print(i)\n",
    "    i = i + 1"
   ]
  },
  {
   "cell_type": "code",
   "execution_count": null,
   "id": "0d54c680-14e7-40b3-9137-90d3cb6ff6ad",
   "metadata": {},
   "outputs": [],
   "source": []
  },
  {
   "cell_type": "markdown",
   "id": "56b4d326-9ece-486a-beb7-bdbc256f8210",
   "metadata": {},
   "source": [
    "6. Use nested while loop to print 3 different pattern. "
   ]
  },
  {
   "cell_type": "code",
   "execution_count": 9,
   "id": "7cbb838e-2580-4344-95d1-fecf2b951935",
   "metadata": {},
   "outputs": [
    {
     "name": "stdout",
     "output_type": "stream",
     "text": [
      "+\n",
      "++\n",
      "+++\n",
      "++++\n",
      "+++++\n",
      "\n",
      "+++++\n",
      "+++++\n",
      "+++++\n",
      "+++++\n",
      "+++++\n",
      "\n",
      "*\n",
      "*\n",
      "*\n",
      "*\n"
     ]
    }
   ],
   "source": [
    "# first Pattren \n",
    "i = j = 1\n",
    "while i <= 5 :\n",
    "    while j <=5:\n",
    "        print(\"+\"*j)\n",
    "        j+=1\n",
    "    i+=1\n",
    "print(end=\"\\n\") \n",
    "\n",
    "# Secand Pattren \n",
    "i = j = 1\n",
    "while i <= 5 :\n",
    "    while j <=5:\n",
    "        print(\"+++++\")\n",
    "        j+=1\n",
    "    i+=1\n",
    "    \n",
    "print(end=\"\\n\") \n",
    "\n",
    "# Third Pattren   \n",
    "i, j = 1,1\n",
    "while i<5:\n",
    "    while j<5:\n",
    "        print(\"*\")\n",
    "        j+=1\n",
    "\n",
    "    i+=1"
   ]
  },
  {
   "cell_type": "code",
   "execution_count": null,
   "id": "8039de68-4425-4e51-aa9e-8735bd1bd44a",
   "metadata": {},
   "outputs": [],
   "source": []
  },
  {
   "cell_type": "markdown",
   "id": "4bb1799d-cd6b-421e-aa85-90a63f694a10",
   "metadata": {},
   "source": [
    "7. Reverse a while loop to display numbers from 10 to 1. "
   ]
  },
  {
   "cell_type": "code",
   "execution_count": null,
   "id": "b58ceeb0-b78a-48c7-8f96-c33ede9f1a80",
   "metadata": {},
   "outputs": [],
   "source": [
    " n = 10 \n",
    "while n != 0 :\n",
    "    print (n)\n",
    "    n-=1"
   ]
  },
  {
   "cell_type": "code",
   "execution_count": null,
   "id": "147c63df-4229-421d-9a6b-8746bf2866e4",
   "metadata": {},
   "outputs": [],
   "source": []
  },
  {
   "cell_type": "markdown",
   "id": "1992c3e0-f418-4350-b3de-36889bde57d5",
   "metadata": {},
   "source": [
    "8. Reverse a while loop to display numbers from 10 to 1. "
   ]
  },
  {
   "cell_type": "code",
   "execution_count": null,
   "id": "3077d12f-5c09-403d-a621-208c91d7996e",
   "metadata": {},
   "outputs": [],
   "source": [
    " n = 10 \n",
    "while n != 0 :\n",
    "    print (n)\n",
    "    n-=1"
   ]
  },
  {
   "cell_type": "code",
   "execution_count": null,
   "id": "226b07ff-924f-44a1-8a5b-2f18547ce6a9",
   "metadata": {},
   "outputs": [],
   "source": [
    "\n"
   ]
  },
  {
   "cell_type": "raw",
   "id": "6e8b3003-8ead-4d66-a993-6fc9bf8832c0",
   "metadata": {},
   "source": []
  }
 ],
 "metadata": {
  "kernelspec": {
   "display_name": "Python 3 (ipykernel)",
   "language": "python",
   "name": "python3"
  },
  "language_info": {
   "codemirror_mode": {
    "name": "ipython",
    "version": 3
   },
   "file_extension": ".py",
   "mimetype": "text/x-python",
   "name": "python",
   "nbconvert_exporter": "python",
   "pygments_lexer": "ipython3",
   "version": "3.10.8"
  }
 },
 "nbformat": 4,
 "nbformat_minor": 5
}
